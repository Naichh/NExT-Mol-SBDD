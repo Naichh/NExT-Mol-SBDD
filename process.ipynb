{
 "cells": [
  {
   "cell_type": "markdown",
   "metadata": {},
   "source": [
    "## QM9 dataset"
   ]
  },
  {
   "cell_type": "code",
   "execution_count": null,
   "metadata": {},
   "outputs": [],
   "source": [
    "from transformers import AutoTokenizer\n",
    "from data_provider.qm9_dataset_v4 import QM9Dataset\n",
    "from data_provider.conf_gen_cal_metrics import set_rdmol_positions, get_best_rmsd\n",
    "from tqdm import tqdm\n",
    "tokenizer = AutoTokenizer.from_pretrained('acharkq/MoLlama')\n",
    "dataset = QM9Dataset(root='./data/qm9v4', selfies_tokenizer=tokenizer)"
   ]
  },
  {
   "cell_type": "code",
   "execution_count": null,
   "metadata": {},
   "outputs": [],
   "source": [
    "for i in tqdm(range(len(dataset))):\n",
    "    if not dataset.data['selfies'][i]:\n",
    "        continue\n",
    "    data = dataset[i]\n",
    "    rdkit_cluster_coords_list = data.rdkit_cluster_coords_list\n",
    "    new_rdkit_cluster_coords_list = []\n",
    "    for coord in rdkit_cluster_coords_list:\n",
    "        new_rdmol = set_rdmol_positions(dataset[i].rdmol, coord, False)\n",
    "        rmsd = get_best_rmsd(new_rdmol, dataset[i].rdmol)\n",
    "        new_rdkit_cluster_coords_list.append((coord, rmsd))\n",
    "    new_rdkit_cluster_coords_list.sort(key=lambda x: x[1])\n",
    "    dataset.data['rdkit_cluster_coords_list'][i] = new_rdkit_cluster_coords_list"
   ]
  },
  {
   "cell_type": "code",
   "execution_count": null,
   "metadata": {},
   "outputs": [],
   "source": [
    "import torch\n",
    "\n",
    "torch.save((dataset.data, dataset.slices), './data/qm9v6/processed/data_qm9.pt')"
   ]
  },
  {
   "cell_type": "code",
   "execution_count": null,
   "metadata": {},
   "outputs": [],
   "source": [
    "print(dataset.slices)"
   ]
  },
  {
   "cell_type": "markdown",
   "metadata": {},
   "source": [
    "## GEOM-Drugs dataset"
   ]
  },
  {
   "cell_type": "code",
   "execution_count": 2,
   "metadata": {},
   "outputs": [
    {
     "name": "stderr",
     "output_type": "stream",
     "text": [
      "/home/luoyc/miniconda3/envs/3+1D/lib/python3.8/site-packages/tqdm/auto.py:21: TqdmWarning: IProgress not found. Please update jupyter and ipywidgets. See https://ipywidgets.readthedocs.io/en/stable/user_install.html\n",
      "  from .autonotebook import tqdm as notebook_tqdm\n"
     ]
    }
   ],
   "source": [
    "from transformers import AutoTokenizer\n",
    "from data_provider.geom_dataset import GeomDrugsDataset\n",
    "\n",
    "root_path = \"./data/drugs\"\n",
    "# tokenizer = AutoTokenizer.from_pretrained('acharkq/MoLlama')\n",
    "tokenizer = AutoTokenizer.from_pretrained('./all_checkpoints/mollama_iter-2220000-ckpt_hf')\n",
    "dataset = GeomDrugsDataset(root=root_path, selfies_tokenizer=tokenizer)\n"
   ]
  }
 ],
 "metadata": {
  "kernelspec": {
   "display_name": "123d",
   "language": "python",
   "name": "python3"
  },
  "language_info": {
   "codemirror_mode": {
    "name": "ipython",
    "version": 3
   },
   "file_extension": ".py",
   "mimetype": "text/x-python",
   "name": "python",
   "nbconvert_exporter": "python",
   "pygments_lexer": "ipython3",
   "version": "3.8.17"
  }
 },
 "nbformat": 4,
 "nbformat_minor": 2
}
